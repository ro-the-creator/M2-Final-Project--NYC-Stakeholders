{
 "cells": [
  {
   "cell_type": "code",
   "execution_count": 1,
   "id": "c63e2c72",
   "metadata": {},
   "outputs": [],
   "source": [
    "import pandas as pd\n",
    "import numpy as np\n",
    "import matplotlib.pyplot as plt\n",
    "import seaborn as sns\n",
    "import plotly as px"
   ]
  },
  {
   "cell_type": "code",
   "execution_count": 2,
   "id": "1de12634",
   "metadata": {},
   "outputs": [
    {
     "name": "stderr",
     "output_type": "stream",
     "text": [
      "/var/folders/bs/gtwb0lj97nb4v95968dmfzww0000gp/T/ipykernel_63515/59734528.py:1: DtypeWarning: Columns (2) have mixed types. Specify dtype option on import or set low_memory=False.\n",
      "  df = pd.read_csv('/Users/Marcy_Student/Desktop/marcy/Emergency_Department_Visits_and_Admissions_for_Influenza-like_Illness_and_or_Pneumonia_20250714.csv')\n"
     ]
    },
    {
     "data": {
      "text/html": [
       "<div>\n",
       "<style scoped>\n",
       "    .dataframe tbody tr th:only-of-type {\n",
       "        vertical-align: middle;\n",
       "    }\n",
       "\n",
       "    .dataframe tbody tr th {\n",
       "        vertical-align: top;\n",
       "    }\n",
       "\n",
       "    .dataframe thead th {\n",
       "        text-align: right;\n",
       "    }\n",
       "</style>\n",
       "<table border=\"1\" class=\"dataframe\">\n",
       "  <thead>\n",
       "    <tr style=\"text-align: right;\">\n",
       "      <th></th>\n",
       "      <th>extract_date</th>\n",
       "      <th>date</th>\n",
       "      <th>mod_zcta</th>\n",
       "      <th>total_ed_visits</th>\n",
       "      <th>ili_pne_visits</th>\n",
       "      <th>ili_pne_admissions</th>\n",
       "    </tr>\n",
       "  </thead>\n",
       "  <tbody>\n",
       "    <tr>\n",
       "      <th>0</th>\n",
       "      <td>12/05/2022</td>\n",
       "      <td>03/01/2020</td>\n",
       "      <td>11692</td>\n",
       "      <td>16.00</td>\n",
       "      <td>2.00</td>\n",
       "      <td>0.00</td>\n",
       "    </tr>\n",
       "    <tr>\n",
       "      <th>1</th>\n",
       "      <td>12/05/2022</td>\n",
       "      <td>03/01/2020</td>\n",
       "      <td>10075</td>\n",
       "      <td>24.00</td>\n",
       "      <td>0.00</td>\n",
       "      <td>0.00</td>\n",
       "    </tr>\n",
       "    <tr>\n",
       "      <th>2</th>\n",
       "      <td>12/05/2022</td>\n",
       "      <td>03/01/2020</td>\n",
       "      <td>11427</td>\n",
       "      <td>18.00</td>\n",
       "      <td>0.00</td>\n",
       "      <td>0.00</td>\n",
       "    </tr>\n",
       "    <tr>\n",
       "      <th>3</th>\n",
       "      <td>12/05/2022</td>\n",
       "      <td>03/01/2020</td>\n",
       "      <td>11224</td>\n",
       "      <td>72.00</td>\n",
       "      <td>2.00</td>\n",
       "      <td>1.00</td>\n",
       "    </tr>\n",
       "    <tr>\n",
       "      <th>4</th>\n",
       "      <td>12/05/2022</td>\n",
       "      <td>03/01/2020</td>\n",
       "      <td>11419</td>\n",
       "      <td>52.00</td>\n",
       "      <td>5.00</td>\n",
       "      <td>0.00</td>\n",
       "    </tr>\n",
       "    <tr>\n",
       "      <th>...</th>\n",
       "      <td>...</td>\n",
       "      <td>...</td>\n",
       "      <td>...</td>\n",
       "      <td>...</td>\n",
       "      <td>...</td>\n",
       "      <td>...</td>\n",
       "    </tr>\n",
       "    <tr>\n",
       "      <th>12872408</th>\n",
       "      <td>09/12/2022</td>\n",
       "      <td>12/10/2021</td>\n",
       "      <td>{</td>\n",
       "      <td>NaN</td>\n",
       "      <td>NaN</td>\n",
       "      <td>NaN</td>\n",
       "    </tr>\n",
       "    <tr>\n",
       "      <th>12872409</th>\n",
       "      <td>\"error\" : true</td>\n",
       "      <td>NaN</td>\n",
       "      <td>NaN</td>\n",
       "      <td>NaN</td>\n",
       "      <td>NaN</td>\n",
       "      <td>NaN</td>\n",
       "    </tr>\n",
       "    <tr>\n",
       "      <th>12872410</th>\n",
       "      <td>\"message\" : \"Internal error\"</td>\n",
       "      <td>NaN</td>\n",
       "      <td>NaN</td>\n",
       "      <td>NaN</td>\n",
       "      <td>NaN</td>\n",
       "      <td>NaN</td>\n",
       "    </tr>\n",
       "    <tr>\n",
       "      <th>12872411</th>\n",
       "      <td>\"status\" : 500</td>\n",
       "      <td>NaN</td>\n",
       "      <td>NaN</td>\n",
       "      <td>NaN</td>\n",
       "      <td>NaN</td>\n",
       "      <td>NaN</td>\n",
       "    </tr>\n",
       "    <tr>\n",
       "      <th>12872412</th>\n",
       "      <td>}</td>\n",
       "      <td>NaN</td>\n",
       "      <td>NaN</td>\n",
       "      <td>NaN</td>\n",
       "      <td>NaN</td>\n",
       "      <td>NaN</td>\n",
       "    </tr>\n",
       "  </tbody>\n",
       "</table>\n",
       "<p>12872413 rows × 6 columns</p>\n",
       "</div>"
      ],
      "text/plain": [
       "                            extract_date        date mod_zcta  total_ed_visits  ili_pne_visits  ili_pne_admissions\n",
       "0                             12/05/2022  03/01/2020    11692            16.00            2.00                0.00\n",
       "1                             12/05/2022  03/01/2020    10075            24.00            0.00                0.00\n",
       "2                             12/05/2022  03/01/2020    11427            18.00            0.00                0.00\n",
       "3                             12/05/2022  03/01/2020    11224            72.00            2.00                1.00\n",
       "4                             12/05/2022  03/01/2020    11419            52.00            5.00                0.00\n",
       "...                                  ...         ...      ...              ...             ...                 ...\n",
       "12872408                      09/12/2022  12/10/2021        {              NaN             NaN                 NaN\n",
       "12872409                  \"error\" : true         NaN      NaN              NaN             NaN                 NaN\n",
       "12872410    \"message\" : \"Internal error\"         NaN      NaN              NaN             NaN                 NaN\n",
       "12872411                  \"status\" : 500         NaN      NaN              NaN             NaN                 NaN\n",
       "12872412                               }         NaN      NaN              NaN             NaN                 NaN\n",
       "\n",
       "[12872413 rows x 6 columns]"
      ]
     },
     "execution_count": 2,
     "metadata": {},
     "output_type": "execute_result"
    }
   ],
   "source": [
    "df = pd.read_csv('/Users/Marcy_Student/Desktop/marcy/Emergency_Department_Visits_and_Admissions_for_Influenza-like_Illness_and_or_Pneumonia_20250714.csv')\n",
    "pd.set_option(\"display.float_format\", \"{:.2f}\".format)\n",
    "pd.set_option(\"display.expand_frame_repr\", False)\n",
    "pd.set_option(\"display.max_rows\", 100)\n",
    "df"
   ]
  },
  {
   "cell_type": "code",
   "execution_count": 4,
   "id": "809338eb",
   "metadata": {},
   "outputs": [],
   "source": [
    "# changing the data type of dates and extract date to datetime\n",
    "df.dtypes\n",
    "df['extract_date']=pd.to_datetime(df['extract_date'],errors='coerce')\n",
    "df['date']= pd.to_datetime(df['date'], errors='coerce')\n"
   ]
  },
  {
   "cell_type": "code",
   "execution_count": 5,
   "id": "110cd112",
   "metadata": {},
   "outputs": [
    {
     "data": {
      "text/plain": [
       "extract_date          0\n",
       "date                  0\n",
       "mod_zcta              0\n",
       "total_ed_visits       0\n",
       "ili_pne_visits        0\n",
       "ili_pne_admissions    0\n",
       "dtype: int64"
      ]
     },
     "execution_count": 5,
     "metadata": {},
     "output_type": "execute_result"
    }
   ],
   "source": [
    "#checking for NA values and removing them\n",
    "df.isnull().sum()\n",
    "df.isna().sum()\n",
    "df = df.dropna()\n",
    "df.isnull().sum()"
   ]
  },
  {
   "cell_type": "code",
   "execution_count": 9,
   "id": "dde19e71",
   "metadata": {},
   "outputs": [
    {
     "name": "stderr",
     "output_type": "stream",
     "text": [
      "/var/folders/bs/gtwb0lj97nb4v95968dmfzww0000gp/T/ipykernel_87949/206825646.py:2: SettingWithCopyWarning: \n",
      "A value is trying to be set on a copy of a slice from a DataFrame.\n",
      "Try using .loc[row_indexer,col_indexer] = value instead\n",
      "\n",
      "See the caveats in the documentation: https://pandas.pydata.org/pandas-docs/stable/user_guide/indexing.html#returning-a-view-versus-a-copy\n",
      "  df[['ili_pne_visits','ili_pne_admissions','total_ed_visits']] = df[['ili_pne_visits','ili_pne_admissions','total_ed_visits']].astype(int)\n"
     ]
    },
    {
     "data": {
      "text/plain": [
       "extract_date          datetime64[ns]\n",
       "date                  datetime64[ns]\n",
       "mod_zcta                      object\n",
       "total_ed_visits                int64\n",
       "ili_pne_visits                 int64\n",
       "ili_pne_admissions             int64\n",
       "dtype: object"
      ]
     },
     "execution_count": 9,
     "metadata": {},
     "output_type": "execute_result"
    }
   ],
   "source": [
    "# convert the ili_pne_visits and ili_pne_admissions to integers\n",
    "df[['ili_pne_visits','ili_pne_admissions','total_ed_visits']] = df[['ili_pne_visits','ili_pne_admissions','total_ed_visits']].astype(int)\n",
    "df.dtypes\n"
   ]
  },
  {
   "cell_type": "code",
   "execution_count": null,
   "id": "1fa06124",
   "metadata": {},
   "outputs": [
    {
     "data": {
      "text/plain": [
       "np.int64(0)"
      ]
     },
     "execution_count": 8,
     "metadata": {},
     "output_type": "execute_result"
    }
   ],
   "source": [
    "# check for duplicates\n",
    "df.duplicated().sum()\n",
    "# No "
   ]
  },
  {
   "cell_type": "code",
   "execution_count": null,
   "id": "caa52f56",
   "metadata": {},
   "outputs": [],
   "source": [
    "#df.to_csv('Cleaned data.csv')"
   ]
  }
 ],
 "metadata": {
  "kernelspec": {
   "display_name": "data-analysis-env",
   "language": "python",
   "name": "python3"
  },
  "language_info": {
   "codemirror_mode": {
    "name": "ipython",
    "version": 3
   },
   "file_extension": ".py",
   "mimetype": "text/x-python",
   "name": "python",
   "nbconvert_exporter": "python",
   "pygments_lexer": "ipython3",
   "version": "3.9.22"
  }
 },
 "nbformat": 4,
 "nbformat_minor": 5
}
